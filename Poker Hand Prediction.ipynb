{
 "cells": [
  {
   "cell_type": "markdown",
   "id": "930f3851-0444-4229-b74a-6d3250042dab",
   "metadata": {},
   "source": [
    "# Import Libraies"
   ]
  },
  {
   "cell_type": "code",
   "execution_count": null,
   "id": "9056eb44-c7b5-423d-a6c7-d30baaaee6ba",
   "metadata": {},
   "outputs": [],
   "source": [
    "import numpy as np\n",
    "import pandas as pd\n",
    "import matplotlib.pyplot as plt\n",
    "import seaborn as sns\n",
    "from sklearn.model_selection import train_test_split, KFold\n",
    "from sklearn.tree import DecisionTreeClassifier\n",
    "from sklearn.ensemble import RandomForestClassifier\n",
    "from xgboost import XGBClassifier\n",
    "from lightgbm import LGBMClassifier\n",
    "from sklearn.metrics import accuracy_score, f1_score, precision_score, recall_score, classification_report, confusion_matrix\n",
    "from mlxtend.plotting import plot_confusion_matrix\n",
    "\n",
    "import warnings\n",
    "from sklearn.exceptions import ConvergenceWarning\n",
    "warnings.filterwarnings(\"ignore\", category=UserWarning)\n",
    "warnings.filterwarnings(\"ignore\", category=FutureWarning)\n",
    "warnings.filterwarnings(\"ignore\", category=ConvergenceWarning)"
   ]
  },
  {
   "cell_type": "markdown",
   "id": "75ed8f67-3bda-47b0-a108-67857d47616d",
   "metadata": {},
   "source": [
    "# Load Data"
   ]
  },
  {
   "cell_type": "code",
   "execution_count": null,
   "id": "3cb192fe-0caa-4859-8835-1e500271bfeb",
   "metadata": {},
   "outputs": [],
   "source": [
    "train = pd.read_csv(\"/mnt/hdd/Datasets/poker-hand-training-true.data\", names=[\"S1\", \"C1\", \"S2\", \"C2\", \"S3\", \"C3\", \"S4\", \"C4\", \"S5\", \"C5\", \"Label\"])\n",
    "train.head()"
   ]
  },
  {
   "cell_type": "code",
   "execution_count": null,
   "id": "f31547fa-8d43-4ec8-9d0e-44fce109df3c",
   "metadata": {},
   "outputs": [],
   "source": [
    "test = pd.read_csv(\"/mnt/hdd/Datasets/poker-hand-testing.data\", names=[\"S1\", \"C1\", \"S2\", \"C2\", \"S3\", \"C3\", \"S4\", \"C4\", \"S5\", \"C5\", \"Label\"])\n",
    "test.head()"
   ]
  },
  {
   "cell_type": "code",
   "execution_count": null,
   "id": "f8e772b2-b6ed-4290-af62-5e3d871fd1aa",
   "metadata": {},
   "outputs": [],
   "source": [
    "print(\"Train dataset shape:\", train.shape)\n",
    "print(\"Test dataset shape:\", test.shape)"
   ]
  },
  {
   "cell_type": "markdown",
   "id": "bcdb12a1-9070-4a44-84c4-67b877694ba7",
   "metadata": {},
   "source": [
    "# Extract Features"
   ]
  },
  {
   "cell_type": "code",
   "execution_count": null,
   "id": "bd72fcd4-6bf1-4355-a747-8097934609ea",
   "metadata": {},
   "outputs": [],
   "source": [
    "X_train = train.iloc[:, :-1]\n",
    "X_test = test.iloc[:, :-1]\n",
    "\n",
    "y_train = train.iloc[:, -1]\n",
    "y_test = test.iloc[:, -1]"
   ]
  },
  {
   "cell_type": "markdown",
   "id": "3af6ef30-6ccb-4371-904f-e794a950ecdd",
   "metadata": {},
   "source": [
    "# Train"
   ]
  },
  {
   "cell_type": "code",
   "execution_count": null,
   "id": "fc76af44-3174-4801-a61d-b2eca024ec5f",
   "metadata": {},
   "outputs": [],
   "source": [
    "kf = KFold(n_splits=5, shuffle=True)"
   ]
  },
  {
   "cell_type": "code",
   "execution_count": null,
   "id": "307491d8-f5a5-4ccc-8831-93e4b2add13e",
   "metadata": {},
   "outputs": [],
   "source": [
    "def cross_validation(model, X, y):\n",
    "    model_log = pd.DataFrame(columns=[\"Accuracy\", \"F1\", \"Precision\", \"Recall\"])\n",
    "    for fold, (train_, test_) in enumerate(kf.split(X=X, y=y)):\n",
    "        xtrain = X.iloc[train_, :]\n",
    "        xtest = X.iloc[test_, :]\n",
    "        ytrain = y.iloc[train_]\n",
    "        ytest = y.iloc[test_]\n",
    "\n",
    "        model.fit(xtrain, ytrain)\n",
    "\n",
    "        y_pred = model.predict(xtest)\n",
    "        print(f\"The fold is: {fold}\")\n",
    "        #print(classification_report(ytest, y_pred))\n",
    "\n",
    "        cm = confusion_matrix(ytest, y_pred)\n",
    "        \n",
    "        model_log.loc[fold, \"Accuracy\"] = accuracy_score(ytest, y_pred)\n",
    "        model_log.loc[fold, \"F1\"] = f1_score(ytest, y_pred, average=\"weighted\")\n",
    "        model_log.loc[fold, \"Precision\"] = precision_score(ytest, y_pred, average=\"weighted\")\n",
    "        model_log.loc[fold, \"Recall\"] = recall_score(ytest, y_pred, average=\"weighted\")\n",
    "    \n",
    "    return model_log, cm"
   ]
  },
  {
   "cell_type": "code",
   "execution_count": null,
   "id": "5e1616e1-038a-469e-a88b-6dfba3b1dcb0",
   "metadata": {},
   "outputs": [],
   "source": [
    "dt = DecisionTreeClassifier()\n",
    "dt_log, dt_cm = cross_validation(dt, X_train, y_train)\n",
    "plot_confusion_matrix(conf_mat=dt_cm, show_absolute=True, show_normed=True, colorbar=True, figsize=(8, 8));"
   ]
  },
  {
   "cell_type": "code",
   "execution_count": null,
   "id": "d338fa16-1dcc-4176-aeab-3dbfcd8677d2",
   "metadata": {},
   "outputs": [],
   "source": [
    "xgb = XGBClassifier()\n",
    "xgb_log, xgb_cm = cross_validation(xgb, X_train, y_train)\n",
    "plot_confusion_matrix(conf_mat=xgb_cm, show_absolute=True, show_normed=True, colorbar=True, figsize=(8, 8));"
   ]
  },
  {
   "cell_type": "code",
   "execution_count": null,
   "id": "041b538d-7f5a-4d7d-8ec8-ce429c01b52e",
   "metadata": {},
   "outputs": [],
   "source": [
    "rf = RandomForestClassifier()\n",
    "rf_log, rf_cm = cross_validation(rf, X_train, y_train)\n",
    "plot_confusion_matrix(conf_mat=rf_cm, show_absolute=True, show_normed=True, colorbar=True, figsize=(8, 8));"
   ]
  },
  {
   "cell_type": "code",
   "execution_count": null,
   "id": "9ca3445a-f5fe-42cd-ae33-e6f7281e6b3a",
   "metadata": {},
   "outputs": [],
   "source": [
    "lgbm = LGBMClassifier()\n",
    "lgbm_log, lgbm_cm = cross_validation(lgbm, X_train, y_train)\n",
    "plot_confusion_matrix(conf_mat=lgbm_cm, show_absolute=True, show_normed=True, colorbar=True, figsize=(8, 8));"
   ]
  },
  {
   "cell_type": "code",
   "execution_count": null,
   "id": "9d8ec9f1-2f0c-4c1b-8e19-9b8bdcea74dd",
   "metadata": {},
   "outputs": [],
   "source": [
    "def preprocess(df):\n",
    "    suits = df[[\"S1\", \"S2\", \"S3\", \"S4\", \"S5\"]]\n",
    "    cards = df[[\"C1\", \"C2\", \"C3\", \"C4\", \"C5\"]]\n",
    "    \n",
    "    df[\"Diff_1\"] = df[\"C5\"] - df[\"C4\"]\n",
    "    df[\"Diff_2\"] = df[\"C4\"] - df[\"C3\"]\n",
    "    df[\"Diff_3\"] = df[\"C3\"] - df[\"C2\"]\n",
    "    df[\"Diff_4\"] = df[\"C2\"] - df[\"C1\"]\n",
    "\n",
    "    df[\"Unique_Suit\"] = suits.apply(lambda x: len(np.unique(x)), axis=1)\n",
    "\n",
    "    df[\"sum_S1\"] = suits.apply(lambda x: sum(x == x[0]), axis=1)\n",
    "    df[\"sum_C1\"] = cards.apply(lambda x: sum(x == x[0]), axis=1)\n",
    "    df[\"sum_S2\"] = suits.apply(lambda x: sum(x == x[1]), axis=1)\n",
    "    df[\"sum_C2\"] = cards.apply(lambda x: sum(x == x[1]), axis=1)\n",
    "    df[\"sum_S3\"] = suits.apply(lambda x: sum(x == x[2]), axis=1)\n",
    "    df[\"sum_C3\"] = cards.apply(lambda x: sum(x == x[2]), axis=1)\n",
    "    df[\"sum_S4\"] = suits.apply(lambda x: sum(x == x[3]), axis=1)\n",
    "    df[\"sum_C4\"] = cards.apply(lambda x: sum(x == x[3]), axis=1)\n",
    "    df[\"sum_S5\"] = suits.apply(lambda x: sum(x == x[4]), axis=1)\n",
    "    df[\"sum_C5\"] = cards.apply(lambda x: sum(x == x[4]), axis=1)\n",
    "\n",
    "    return df"
   ]
  },
  {
   "cell_type": "code",
   "execution_count": null,
   "id": "43e9613f-ee33-480d-b11a-3bb83f01dbea",
   "metadata": {},
   "outputs": [],
   "source": [
    "train_pre = preprocess(train)\n",
    "train_pre.sample(5)"
   ]
  },
  {
   "cell_type": "code",
   "execution_count": null,
   "id": "327ae6e9-50a4-4b4f-ac49-d4e79bba44e5",
   "metadata": {},
   "outputs": [],
   "source": [
    "test_pre = preprocess(test)\n",
    "test_pre.sample(5)"
   ]
  },
  {
   "cell_type": "code",
   "execution_count": null,
   "id": "a73bd2af-0e71-4acd-a32f-cdb4e06bf2f1",
   "metadata": {},
   "outputs": [],
   "source": [
    "X_train_pre = train_pre.drop(\"Label\", axis=1)\n",
    "X_test_pre = test_pre.drop(\"Label\", axis=1)\n",
    "\n",
    "y_train_pre = train_pre[\"Label\"]\n",
    "y_test_pre = test_pre[\"Label\"]"
   ]
  },
  {
   "cell_type": "code",
   "execution_count": null,
   "id": "738edee1-e6b2-4ca3-b6a9-7b8ce5a5aa88",
   "metadata": {},
   "outputs": [],
   "source": [
    "dt2 = DecisionTreeClassifier()\n",
    "dt_log2 dt2_cm = cross_validation(dt2, X_train_pre, y_train_pre)\n",
    "plot_confusion_matrix(conf_mat=dt2_cm, show_absolute=True, show_normed=True, colorbar=True, figsize=(8, 8));"
   ]
  },
  {
   "cell_type": "code",
   "execution_count": null,
   "id": "527d7bba-9ded-433a-b64f-8d6485a68815",
   "metadata": {},
   "outputs": [],
   "source": [
    "xgb2 = XGBClassifier()\n",
    "xgb_log2, xgb2_cm = cross_validation(xgb2, X_train_pre, y_train_pre)\n",
    "plot_confusion_matrix(conf_mat=xgb2_cm, show_absolute=True, show_normed=True, colorbar=True, figsize=(8, 8));"
   ]
  },
  {
   "cell_type": "code",
   "execution_count": null,
   "id": "52318e70-22ba-45ba-aedf-5cf53a49d551",
   "metadata": {},
   "outputs": [],
   "source": [
    "rf2 = RandomForestClassifier()\n",
    "rf_log2, rf2_cm = cross_validation(rf2, X_train_pre, y_train_pre)\n",
    "plot_confusion_matrix(conf_mat=rf2_cm, show_absolute=True, show_normed=True, colorbar=True, figsize=(8, 8));"
   ]
  },
  {
   "cell_type": "code",
   "execution_count": null,
   "id": "81db66aa-e07a-44d3-8be2-f4b1e3a8ebe3",
   "metadata": {},
   "outputs": [],
   "source": [
    "lgbm2 = LGBMClassifier()\n",
    "lgbm_log2, lgbm2_cm = cross_validation(lgbm2, X_train_pre, y_train_pre)\n",
    "plot_confusion_matrix(conf_mat=lgbm2_cm, show_absolute=True, show_normed=True, colorbar=True, figsize=(8, 8));"
   ]
  },
  {
   "cell_type": "markdown",
   "id": "cb676ef8-569c-4b0a-9003-1e906aa52b5c",
   "metadata": {},
   "source": [
    "# Results"
   ]
  },
  {
   "cell_type": "code",
   "execution_count": null,
   "id": "7fe1c50b-1e56-4abc-8587-643089fb828c",
   "metadata": {},
   "outputs": [],
   "source": [
    "result_df = pd.DataFrame({\n",
    "    \"Model\": [\"DT\", \"XGB\", \"RF\", \"LGBM\", \"DT2\", \"XGB2\", \"RF2\", \"LGBM\"],\n",
    "    \"Accuracy\": [dt_log[\"Accuracy\"].mean(), xgb_log[\"Accuracy\"].mean(), rf_log[\"Accuracy\"].mean(), lgbm_log[\"Accuracy\"].mean(),\n",
    "                 dt_log2[\"Accuracy\"].mean(), xgb_log2[\"Accuracy\"].mean(), rf_log2[\"Accuracy\"].mean(), lgbm_log2[\"Accuracy\"].mean()],\n",
    "    \"F1\": [dt_log[\"F1\"].mean(), xgb_log[\"F1\"].mean(), rf_log[\"F1\"].mean(), lgbm_log[\"F1\"].mean(),\n",
    "                 dt_log2[\"F1\"].mean(), xgb_log2[\"F1\"].mean(), rf_log2[\"F1\"].mean(), lgbm_log2[\"F1\"].mean()],\n",
    "    \"Precision\": [dt_log[\"Precision\"].mean(), xgb_log[\"Precision\"].mean(), rf_log[\"Precision\"].mean(), lgbm_log[\"Precision\"].mean(),\n",
    "                 dt_log2[\"Precision\"].mean(), xgb_log2[\"Precision\"].mean(), rf_log2[\"Precision\"].mean(), lgbm_log2[\"Precision\"].mean()],\n",
    "    \"Recall\": [dt_log[\"Recall\"].mean(), xgb_log[\"Recall\"].mean(), rf_log[\"Recall\"].mean(), lgbm_log[\"Recall\"].mean(),\n",
    "                 dt_log2[\"Recall\"].mean(), xgb_log2[\"Recall\"].mean(), rf_log2[\"Recall\"].mean(), lgbm_log2[\"Recall\"].mean()]\n",
    "})\n",
    "\n",
    "result_df.head(8)"
   ]
  },
  {
   "cell_type": "code",
   "execution_count": null,
   "id": "a27f8036-37af-48fb-87e1-105b3b702fa5",
   "metadata": {},
   "outputs": [],
   "source": [
    "result_df.sort_values(by=\"Accuracy\", ascending=False)[[\"Model\", \"Accuracy\"]]"
   ]
  },
  {
   "cell_type": "code",
   "execution_count": null,
   "id": "95ef2944-1623-4443-af75-2d5dc7da17c8",
   "metadata": {},
   "outputs": [],
   "source": [
    "result_df.sort_values(by=\"F1\", ascending=False)[[\"Model\", \"F1\"]]"
   ]
  },
  {
   "cell_type": "code",
   "execution_count": null,
   "id": "ef1c3135-6f82-4290-97c4-4d7fb3076843",
   "metadata": {},
   "outputs": [],
   "source": [
    "result_df.sort_values(by=\"Precision\", ascending=False)[[\"Model\", \"Precision\"]]"
   ]
  },
  {
   "cell_type": "code",
   "execution_count": null,
   "id": "ddfa1ff4-b0ac-4fd2-a055-4e09af5c0c8e",
   "metadata": {},
   "outputs": [],
   "source": [
    "result_df.sort_values(by=\"Recall\", ascending=False)[[\"Model\", \"Recall\"]]"
   ]
  },
  {
   "cell_type": "code",
   "execution_count": null,
   "id": "a0015605-7d01-4733-beb5-36463d73214f",
   "metadata": {},
   "outputs": [],
   "source": [
    "plt.figure(figsize=(15, 15))\n",
    "\n",
    "plt.subplot(221)\n",
    "ax = sns.barplot(data=result_df, x=\"Model\", y=\"Accuracy\")\n",
    "for container in ax.containers:\n",
    "    ax.bar_label(container)\n",
    "plt.title(\"Model / Accuracy Score\")\n",
    "\n",
    "plt.subplot(222)\n",
    "ax = sns.barplot(data=result_df, x=\"Model\", y=\"F1\")\n",
    "for container in ax.containers:\n",
    "    ax.bar_label(container)\n",
    "plt.title(\"Model / F1 Score\")\n",
    "\n",
    "plt.subplot(223)\n",
    "ax = sns.barplot(data=result_df, x=\"Model\", y=\"Precision\")\n",
    "for container in ax.containers:\n",
    "    ax.bar_label(container)\n",
    "plt.title(\"Model / Precision Score\")\n",
    "\n",
    "plt.subplot(224)\n",
    "ax = sns.barplot(data=result_df, x=\"Model\", y=\"Recall\")\n",
    "for container in ax.containers:\n",
    "    ax.bar_label(container)\n",
    "plt.title(\"Model / Recall Score\")\n",
    "\n",
    "plt.show()"
   ]
  },
  {
   "cell_type": "code",
   "execution_count": null,
   "id": "d142264f-4c25-4c55-9e96-67aec48c0466",
   "metadata": {},
   "outputs": [],
   "source": []
  }
 ],
 "metadata": {
  "kernelspec": {
   "display_name": "Python 3 (ipykernel)",
   "language": "python",
   "name": "python3"
  },
  "language_info": {
   "codemirror_mode": {
    "name": "ipython",
    "version": 3
   },
   "file_extension": ".py",
   "mimetype": "text/x-python",
   "name": "python",
   "nbconvert_exporter": "python",
   "pygments_lexer": "ipython3",
   "version": "3.10.12"
  }
 },
 "nbformat": 4,
 "nbformat_minor": 5
}
