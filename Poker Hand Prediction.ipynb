{
 "cells": [
  {
   "cell_type": "code",
   "execution_count": 36,
   "id": "d132ae1f",
   "metadata": {},
   "outputs": [],
   "source": [
    "import numpy as np\n",
    "import pandas as pd\n",
    "import seaborn as sns\n",
    "import matplotlib.pyplot as plt\n",
    "import pickle\n",
    "from sklearn.ensemble import RandomForestClassifier\n",
    "from sklearn.tree import DecisionTreeClassifier\n",
    "from sklearn.model_selection import  train_test_split\n",
    "from sklearn.linear_model import LogisticRegression, LinearRegression, Lasso, Ridge\n",
    "from sklearn.metrics import accuracy_score, mean_absolute_error, r2_score"
   ]
  },
  {
   "cell_type": "code",
   "execution_count": 4,
   "id": "9d4e29e1",
   "metadata": {},
   "outputs": [],
   "source": [
    "df = pd.read_csv(\"poker_hand_train_true.data\")\n",
    "df.columns = [\"suit_1\", \"rank_1\", \"suit_2\", \"rank_2\",\n",
    "              \"suit_3\", \"rank_3\", \"suit_4\", \"rank_4\",\n",
    "              \"suit_5\", \"rank_5\", \"hand\"]"
   ]
  },
  {
   "cell_type": "code",
   "execution_count": null,
   "id": "373d9033",
   "metadata": {},
   "outputs": [],
   "source": [
    "df.head()"
   ]
  },
  {
   "cell_type": "code",
   "execution_count": 6,
   "id": "d2016a24",
   "metadata": {},
   "outputs": [],
   "source": [
    "df[\"hand\"] = df[\"hand\"].map({\n",
    "    0: \"nothing\", 1: \"One pairs\", 2: \"Two pairs\", 3: \"Three of a kind\",\n",
    "    4: \"Straight\", 5: \"Flush\", 6: \"Full house\", 7: \"Four of a kind\",\n",
    "    8: \"Straight flush\", 9: \"Royal flush\"\n",
    "})"
   ]
  },
  {
   "cell_type": "code",
   "execution_count": null,
   "id": "b61b62ce",
   "metadata": {},
   "outputs": [],
   "source": [
    "df.head()"
   ]
  },
  {
   "cell_type": "code",
   "execution_count": null,
   "id": "ed662caa",
   "metadata": {},
   "outputs": [],
   "source": [
    "plt.figure(figsize=(16, 12))\n",
    "sns.countplot(x=\"hand\", data=df)\n",
    "plt.show()"
   ]
  },
  {
   "cell_type": "code",
   "execution_count": 10,
   "id": "f3369f79",
   "metadata": {},
   "outputs": [],
   "source": [
    "X = df.drop(\"hand\", axis=1)\n",
    "y = df[\"hand\"]"
   ]
  },
  {
   "cell_type": "code",
   "execution_count": 11,
   "id": "1c23b75b",
   "metadata": {},
   "outputs": [],
   "source": [
    "X_train, X_test, y_train, y_test = train_test_split(X, y, test_size=0.2, random_state=4242)"
   ]
  },
  {
   "cell_type": "code",
   "execution_count": 23,
   "id": "526a2a05",
   "metadata": {},
   "outputs": [
    {
     "data": {
      "text/plain": [
       "0.6339464214314274"
      ]
     },
     "execution_count": 23,
     "metadata": {},
     "output_type": "execute_result"
    }
   ],
   "source": [
    "rf_model = RandomForestClassifier(n_estimators=1000)\n",
    "rf_model.fit(X_train, y_train)\n",
    "y_pred = rf_model.predict(X_test)\n",
    "accuracy_score(y_test, y_pred)"
   ]
  },
  {
   "cell_type": "code",
   "execution_count": 27,
   "id": "f52b1c49",
   "metadata": {},
   "outputs": [
    {
     "data": {
      "text/plain": [
       "0.5483806477409037"
      ]
     },
     "execution_count": 27,
     "metadata": {},
     "output_type": "execute_result"
    }
   ],
   "source": [
    "dt_model = DecisionTreeClassifier(max_depth=5, min_samples_leaf=100)\n",
    "dt_model.fit(X_train, y_train)\n",
    "y_pred = dt_model.predict(X_test)\n",
    "accuracy_score(y_test, y_pred)"
   ]
  },
  {
   "cell_type": "code",
   "execution_count": null,
   "id": "bf730a1c",
   "metadata": {},
   "outputs": [],
   "source": []
  },
  {
   "cell_type": "code",
   "execution_count": 28,
   "id": "13edf6f0",
   "metadata": {},
   "outputs": [],
   "source": [
    "df[\"hand\"] = df[\"hand\"].map({\n",
    "    \"nothing\": 0, \"One pairs\": 1, \"Two pairs\": 2, \"Three of a kind\": 3,\n",
    "    \"Straight\": 4, \"Flush\": 5, \"Full house\": 6, \"Four of a kind\": 7,\n",
    "    \"Straight flush\": 8, \"Royal flush\": 9\n",
    "})"
   ]
  },
  {
   "cell_type": "code",
   "execution_count": 29,
   "id": "0431a851",
   "metadata": {},
   "outputs": [],
   "source": [
    "X = df.drop(\"hand\", axis=1)\n",
    "y = df[\"hand\"]"
   ]
  },
  {
   "cell_type": "code",
   "execution_count": 30,
   "id": "271a8fa8",
   "metadata": {},
   "outputs": [],
   "source": [
    "X_train, X_test, y_train, y_test = train_test_split(X, y, test_size=0.2, random_state=4242)"
   ]
  },
  {
   "cell_type": "code",
   "execution_count": 33,
   "id": "3a6d465d",
   "metadata": {},
   "outputs": [
    {
     "name": "stderr",
     "output_type": "stream",
     "text": [
      "/usr/local/lib/python3.11/dist-packages/sklearn/linear_model/_logistic.py:458: ConvergenceWarning: lbfgs failed to converge (status=1):\n",
      "STOP: TOTAL NO. of ITERATIONS REACHED LIMIT.\n",
      "\n",
      "Increase the number of iterations (max_iter) or scale the data as shown in:\n",
      "    https://scikit-learn.org/stable/modules/preprocessing.html\n",
      "Please also refer to the documentation for alternative solver options:\n",
      "    https://scikit-learn.org/stable/modules/linear_model.html#logistic-regression\n",
      "  n_iter_i = _check_optimize_result(\n"
     ]
    },
    {
     "data": {
      "text/plain": [
       "0.5031987205117953"
      ]
     },
     "execution_count": 33,
     "metadata": {},
     "output_type": "execute_result"
    }
   ],
   "source": [
    "logreg = LogisticRegression()\n",
    "logreg.fit(X_train, y_train)\n",
    "y_pred = logreg.predict(X_test)\n",
    "accuracy_score(y_test, y_pred)"
   ]
  },
  {
   "cell_type": "code",
   "execution_count": 37,
   "id": "6c515a3c",
   "metadata": {},
   "outputs": [
    {
     "name": "stdout",
     "output_type": "stream",
     "text": [
      "R2:  8.448313194242552e-05\n",
      "MAE:  0.6226342740184215\n"
     ]
    }
   ],
   "source": [
    "linreg = LinearRegression()\n",
    "linreg.fit(X_train, y_train)\n",
    "y_pred = linreg.predict(X_test)\n",
    "print(\"R2: \", r2_score(y_test, y_pred))\n",
    "print(\"MAE: \", mean_absolute_error(y_test, y_pred))"
   ]
  },
  {
   "cell_type": "code",
   "execution_count": 38,
   "id": "a500c588",
   "metadata": {},
   "outputs": [
    {
     "name": "stdout",
     "output_type": "stream",
     "text": [
      "R2:  -1.0796571683568956e-05\n",
      "MAE:  0.6227274372402286\n"
     ]
    }
   ],
   "source": [
    "lasso = Lasso()\n",
    "lasso.fit(X_train, y_train)\n",
    "y_pred = lasso.predict(X_test)\n",
    "print(\"R2: \", r2_score(y_test, y_pred))\n",
    "print(\"MAE: \", mean_absolute_error(y_test, y_pred))"
   ]
  },
  {
   "cell_type": "code",
   "execution_count": 39,
   "id": "d56b3c76",
   "metadata": {},
   "outputs": [
    {
     "name": "stdout",
     "output_type": "stream",
     "text": [
      "R2:  8.44907970375397e-05\n",
      "MAE:  0.6226342720303358\n"
     ]
    }
   ],
   "source": [
    "ridge = Ridge()\n",
    "ridge.fit(X_train, y_train)\n",
    "y_pred = ridge.predict(X_test)\n",
    "print(\"R2: \", r2_score(y_test, y_pred))\n",
    "print(\"MAE: \", mean_absolute_error(y_test, y_pred))"
   ]
  },
  {
   "cell_type": "code",
   "execution_count": 40,
   "id": "fcb825f5",
   "metadata": {},
   "outputs": [],
   "source": [
    "pickle.dump(rf_model, open(\"rf.pkl\", \"wb\"))"
   ]
  },
  {
   "cell_type": "code",
   "execution_count": null,
   "id": "76a17cd5",
   "metadata": {},
   "outputs": [],
   "source": []
  }
 ],
 "metadata": {
  "kernelspec": {
   "display_name": "Python 3 (ipykernel)",
   "language": "python",
   "name": "python3"
  },
  "language_info": {
   "codemirror_mode": {
    "name": "ipython",
    "version": 3
   },
   "file_extension": ".py",
   "mimetype": "text/x-python",
   "name": "python",
   "nbconvert_exporter": "python",
   "pygments_lexer": "ipython3",
   "version": "3.11.2"
  }
 },
 "nbformat": 4,
 "nbformat_minor": 5
}
